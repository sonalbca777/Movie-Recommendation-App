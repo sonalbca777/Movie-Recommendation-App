{
 "cells": [
  {
   "cell_type": "markdown",
   "id": "84cad99d-b19e-4ca4-ad72-b1765e78bb89",
   "metadata": {},
   "source": [
    "# plan for the Project\n",
    "\n",
    "1. Understand the Data – Look at the movie dataset and see what information we have.\n",
    "2. Data Cleaning – Fix any missing or bad data.\n",
    "3. Exploratory Data Analysis (EDA) – Find patterns, like the most popular movies or highest-rated genres.\n",
    "4. Feature Engineering – Create useful data points for recommendations.\n",
    "5. Build the Recommendation System – Use different techniques like:\n",
    "6. Popularity-based recommendations (simple)\n",
    "7. Content-based filtering (movies similar to what you like)\n",
    "8. Collaborative filtering (like Netflix recommendations)\n",
    "10. Create a Simple UI – Make it easy to use.\n",
    "11. Final Testing & Submission – Ensure everything works perfectly."
   ]
  },
  {
   "cell_type": "code",
   "execution_count": 38,
   "id": "fb878340-92cb-4e48-8a77-71cd509802bb",
   "metadata": {},
   "outputs": [
    {
     "name": "stdout",
     "output_type": "stream",
     "text": [
      "['.anaconda', '.android', '.aws', '.cache', '.conda', '.condarc', '.continuum', '.emulator_console_auth_token', '.equo', '.gitconfig', '.gradle', '.Icecream PDF Editor', '.idlerc', '.ipynb_checkpoints', '.ipython', '.jupyter', '.knime', '.matplotlib', '.ms-ad', '.nuget', '.virtual_documents', '.vscode', 'anaconda3', 'AndroidStudioProjects', 'AppData', 'Application Data', 'consonatorvowle.ipynb', 'Contacts', 'Cookies', 'data_discibefunc.ipynb', 'Desktop', 'division.ipynb', 'Documents', 'Downloads', 'dtaframe.ipynb', 'Favorites', 'functions.ipynb', 'hakerrank', 'handling_arrays.ipynb', 'Heartdisease_prediction.ipynb', 'Heart_disease_prediction.ipynb', 'input_output.ipynb', 'knime-workspace', 'Links', 'Local Settings', 'loopsinpython.ipynb', 'ml', 'Module10.ipynb', 'Module_11.ipynb', 'movies.csv', 'movie_rec.ipynb', 'Music', 'My Documents', 'NetHood', 'NTUSER.DAT', 'ntuser.dat.LOG1', 'ntuser.dat.LOG2', 'NTUSER.DAT{4b0d0a3b-99f2-11ee-ac8c-9c77c0a42057}.TM.blf', 'NTUSER.DAT{4b0d0a3b-99f2-11ee-ac8c-9c77c0a42057}.TMContainer00000000000000000001.regtrans-ms', 'NTUSER.DAT{4b0d0a3b-99f2-11ee-ac8c-9c77c0a42057}.TMContainer00000000000000000002.regtrans-ms', 'ntuser.ini', 'OneDrive', 'Pictures', 'PrintHood', 'PycharmProjects', 'ratings.csv', 'ratings.csv.zip', 'Recent', 'Saved Games', 'Searches', 'SendTo', 'Start Menu', 'stat', 'students.db', 'Templates', 'TRAVEL', 'uni&multivariat.ipynb', 'Untitled.ipynb', 'untitled.txt', 'Untitled1.ipynb', 'Untitled10.ipynb', 'Untitled11.ipynb', 'Untitled12.ipynb', 'Untitled13.ipynb', 'Untitled14.ipynb', 'Untitled15.ipynb', 'Untitled16.ipynb', 'Untitled17.ipynb', 'Untitled18.ipynb', 'Untitled19.ipynb', 'Untitled2.ipynb', 'Untitled20.ipynb', 'Untitled21.ipynb', 'Untitled22.ipynb', 'Untitled23.ipynb', 'Untitled24.ipynb', 'Untitled25.ipynb', 'Untitled26.ipynb', 'Untitled27.ipynb', 'Untitled28.ipynb', 'Untitled29.ipynb', 'Untitled3.ipynb', 'Untitled30.ipynb', 'Untitled4.ipynb', 'Untitled5.ipynb', 'Untitled6.ipynb', 'Untitled7.ipynb', 'Untitled8.ipynb', 'Untitled9.ipynb', 'Videos', 'while.ipynb', 'WPS Cloud Files', 'zomato']\n"
     ]
    }
   ],
   "source": [
    "import os\n",
    "\n",
    "print(os.listdir())  # This will list all files in the current directory\n"
   ]
  },
  {
   "cell_type": "markdown",
   "id": "eea2d2da-c1d1-4f95-83c4-f26668d9e334",
   "metadata": {},
   "source": [
    "## Step 1: Load the Dataset\n",
    "import the necessary Python libraries and then load the dataset into a Pandas DataFrame"
   ]
  },
  {
   "cell_type": "code",
   "execution_count": 40,
   "id": "677fd600-c524-467b-b93f-8aee34cf9012",
   "metadata": {},
   "outputs": [],
   "source": [
    "import pandas as pd  # Importing Pandas library\n",
    "\n",
    "# Load the dataset (Replace 'movies.csv' with the actual filename)\n",
    "movies = pd.read_csv(\"movies.csv\")\n",
    "ratings = pd.read_csv(\"ratings.csv\")\n"
   ]
  },
  {
   "cell_type": "markdown",
   "id": "d850a378-aa68-4285-86db-9dbd160be870",
   "metadata": {},
   "source": [
    "## Step 2: Understand the Data\n",
    "1️⃣ Exploring movies.csv\n",
    "\n",
    "   This file contains movie details. Look at the output of movies.head(). It should have columns like:\n",
    "\n",
    "movieId → Unique ID for each movie\n",
    "\n",
    "title → Name of the movie\n",
    "\n",
    "genres → Movie genres (e.g., Action, Comedy)"
   ]
  },
  {
   "cell_type": "code",
   "execution_count": 42,
   "id": "efe5f24e-da58-4593-a0be-747a12df7efd",
   "metadata": {},
   "outputs": [
    {
     "name": "stdout",
     "output_type": "stream",
     "text": [
      "Movies Dataset:\n"
     ]
    },
    {
     "data": {
      "text/html": [
       "<div>\n",
       "<style scoped>\n",
       "    .dataframe tbody tr th:only-of-type {\n",
       "        vertical-align: middle;\n",
       "    }\n",
       "\n",
       "    .dataframe tbody tr th {\n",
       "        vertical-align: top;\n",
       "    }\n",
       "\n",
       "    .dataframe thead th {\n",
       "        text-align: right;\n",
       "    }\n",
       "</style>\n",
       "<table border=\"1\" class=\"dataframe\">\n",
       "  <thead>\n",
       "    <tr style=\"text-align: right;\">\n",
       "      <th></th>\n",
       "      <th>movieId</th>\n",
       "      <th>title</th>\n",
       "      <th>genres</th>\n",
       "    </tr>\n",
       "  </thead>\n",
       "  <tbody>\n",
       "    <tr>\n",
       "      <th>0</th>\n",
       "      <td>1</td>\n",
       "      <td>Toy Story (1995)</td>\n",
       "      <td>Adventure|Animation|Children|Comedy|Fantasy</td>\n",
       "    </tr>\n",
       "    <tr>\n",
       "      <th>1</th>\n",
       "      <td>2</td>\n",
       "      <td>Jumanji (1995)</td>\n",
       "      <td>Adventure|Children|Fantasy</td>\n",
       "    </tr>\n",
       "    <tr>\n",
       "      <th>2</th>\n",
       "      <td>3</td>\n",
       "      <td>Grumpier Old Men (1995)</td>\n",
       "      <td>Comedy|Romance</td>\n",
       "    </tr>\n",
       "    <tr>\n",
       "      <th>3</th>\n",
       "      <td>4</td>\n",
       "      <td>Waiting to Exhale (1995)</td>\n",
       "      <td>Comedy|Drama|Romance</td>\n",
       "    </tr>\n",
       "    <tr>\n",
       "      <th>4</th>\n",
       "      <td>5</td>\n",
       "      <td>Father of the Bride Part II (1995)</td>\n",
       "      <td>Comedy</td>\n",
       "    </tr>\n",
       "  </tbody>\n",
       "</table>\n",
       "</div>"
      ],
      "text/plain": [
       "   movieId                               title  \\\n",
       "0        1                    Toy Story (1995)   \n",
       "1        2                      Jumanji (1995)   \n",
       "2        3             Grumpier Old Men (1995)   \n",
       "3        4            Waiting to Exhale (1995)   \n",
       "4        5  Father of the Bride Part II (1995)   \n",
       "\n",
       "                                        genres  \n",
       "0  Adventure|Animation|Children|Comedy|Fantasy  \n",
       "1                   Adventure|Children|Fantasy  \n",
       "2                               Comedy|Romance  \n",
       "3                         Comedy|Drama|Romance  \n",
       "4                                       Comedy  "
      ]
     },
     "metadata": {},
     "output_type": "display_data"
    }
   ],
   "source": [
    "# Display the first 5 rows\n",
    "print(\"Movies Dataset:\")\n",
    "display(movies.head())\n"
   ]
  },
  {
   "cell_type": "markdown",
   "id": "1c2b523c-bf33-4a6a-81b5-c6938505bb85",
   "metadata": {},
   "source": [
    "##2️⃣ Exploring ratings.csv\n",
    "\n",
    "     This file contains user ratings for movies. It should have columns like:\n",
    "     \n",
    "\n",
    "userId → ID of the user who rated the movie.\n",
    "\n",
    "movieId → Movie they rated.\n",
    "\n",
    "rating → Rating given (between 0.5 to 5.0).\n",
    "\n",
    "timestamp → When the rating was given."
   ]
  },
  {
   "cell_type": "code",
   "execution_count": 44,
   "id": "5e85d9d2-4f63-47ae-aa74-3bca5054f3f9",
   "metadata": {},
   "outputs": [
    {
     "name": "stdout",
     "output_type": "stream",
     "text": [
      "\n",
      "Ratings Dataset:\n"
     ]
    },
    {
     "data": {
      "text/html": [
       "<div>\n",
       "<style scoped>\n",
       "    .dataframe tbody tr th:only-of-type {\n",
       "        vertical-align: middle;\n",
       "    }\n",
       "\n",
       "    .dataframe tbody tr th {\n",
       "        vertical-align: top;\n",
       "    }\n",
       "\n",
       "    .dataframe thead th {\n",
       "        text-align: right;\n",
       "    }\n",
       "</style>\n",
       "<table border=\"1\" class=\"dataframe\">\n",
       "  <thead>\n",
       "    <tr style=\"text-align: right;\">\n",
       "      <th></th>\n",
       "      <th>userId</th>\n",
       "      <th>movieId</th>\n",
       "      <th>rating</th>\n",
       "      <th>timestamp</th>\n",
       "    </tr>\n",
       "  </thead>\n",
       "  <tbody>\n",
       "    <tr>\n",
       "      <th>0</th>\n",
       "      <td>1</td>\n",
       "      <td>16</td>\n",
       "      <td>4.0</td>\n",
       "      <td>1217897793</td>\n",
       "    </tr>\n",
       "    <tr>\n",
       "      <th>1</th>\n",
       "      <td>1</td>\n",
       "      <td>24</td>\n",
       "      <td>1.5</td>\n",
       "      <td>1217895807</td>\n",
       "    </tr>\n",
       "    <tr>\n",
       "      <th>2</th>\n",
       "      <td>1</td>\n",
       "      <td>32</td>\n",
       "      <td>4.0</td>\n",
       "      <td>1217896246</td>\n",
       "    </tr>\n",
       "    <tr>\n",
       "      <th>3</th>\n",
       "      <td>1</td>\n",
       "      <td>47</td>\n",
       "      <td>4.0</td>\n",
       "      <td>1217896556</td>\n",
       "    </tr>\n",
       "    <tr>\n",
       "      <th>4</th>\n",
       "      <td>1</td>\n",
       "      <td>50</td>\n",
       "      <td>4.0</td>\n",
       "      <td>1217896523</td>\n",
       "    </tr>\n",
       "  </tbody>\n",
       "</table>\n",
       "</div>"
      ],
      "text/plain": [
       "   userId  movieId  rating   timestamp\n",
       "0       1       16     4.0  1217897793\n",
       "1       1       24     1.5  1217895807\n",
       "2       1       32     4.0  1217896246\n",
       "3       1       47     4.0  1217896556\n",
       "4       1       50     4.0  1217896523"
      ]
     },
     "metadata": {},
     "output_type": "display_data"
    }
   ],
   "source": [
    "print(\"\\nRatings Dataset:\")\n",
    "display(ratings.head())"
   ]
  },
  {
   "cell_type": "markdown",
   "id": "b562ee79-6659-42e0-8bca-e0fc6a0b92b7",
   "metadata": {},
   "source": [
    "# Step 3: Check for Missing Values\n",
    "\n",
    "We must check if any data is missing before using it."
   ]
  },
  {
   "cell_type": "code",
   "execution_count": 46,
   "id": "4a9105b7-ea3e-4e2c-bd1a-6eb95e3284f4",
   "metadata": {},
   "outputs": [
    {
     "name": "stdout",
     "output_type": "stream",
     "text": [
      "Missing values in movies dataset:\n",
      "movieId    0\n",
      "title      0\n",
      "genres     0\n",
      "dtype: int64\n",
      "\n",
      "Missing values in ratings dataset:\n",
      "userId       0\n",
      "movieId      0\n",
      "rating       0\n",
      "timestamp    0\n",
      "dtype: int64\n"
     ]
    }
   ],
   "source": [
    "print(\"Missing values in movies dataset:\")\n",
    "print(movies.isnull().sum()) #.isnull().sum() counts the number of missing values in each column.\n",
    "\n",
    "print(\"\\nMissing values in ratings dataset:\")\n",
    "print(ratings.isnull().sum())"
   ]
  },
  {
   "cell_type": "markdown",
   "id": "e8866deb-96de-47d3-9328-a27568f93749",
   "metadata": {},
   "source": [
    "## Step 4: Checking Column Names"
   ]
  },
  {
   "cell_type": "code",
   "execution_count": 48,
   "id": "4f509076-c97b-47e2-9087-dd69da01210e",
   "metadata": {},
   "outputs": [
    {
     "name": "stdout",
     "output_type": "stream",
     "text": [
      "\n",
      "Columns in movies dataset: Index(['movieId', 'title', 'genres'], dtype='object')\n",
      "\n",
      "Columns in ratings dataset: Index(['userId', 'movieId', 'rating', 'timestamp'], dtype='object')\n"
     ]
    }
   ],
   "source": [
    "\n",
    "print(\"\\nColumns in movies dataset:\", movies.columns)\n",
    "print(\"\\nColumns in ratings dataset:\", ratings.columns)\n"
   ]
  },
  {
   "cell_type": "markdown",
   "id": "51deaaf9-3c9c-4e23-b034-9b0e6539cb08",
   "metadata": {},
   "source": [
    "# Step 5: Understanding the Data (Basic Analysis)\n",
    "\n",
    "Before creating a movie recommendation system, let’s explore:\n",
    "\n",
    "How many movies are there?\n",
    "\n",
    "How many ratings do we have?\n",
    "\n",
    "What are the most popular movies?"
   ]
  },
  {
   "cell_type": "code",
   "execution_count": 50,
   "id": "7b8f2e64-2198-4ddf-99b6-2eb7bbd4c484",
   "metadata": {},
   "outputs": [
    {
     "name": "stdout",
     "output_type": "stream",
     "text": [
      "Total number of movies: 10329\n",
      "Total number of ratings: 105339\n",
      "Total number of unique users: 668\n",
      "Total number of movies rated: 10325\n",
      "Average movie rating: 3.5168503593161127\n",
      "\n",
      "Rating Distribution:\n"
     ]
    },
    {
     "data": {
      "text/plain": [
       "rating\n",
       "0.5     1198\n",
       "1.0     3258\n",
       "1.5     1567\n",
       "2.0     7943\n",
       "2.5     5484\n",
       "3.0    21729\n",
       "3.5    12237\n",
       "4.0    28880\n",
       "4.5     8187\n",
       "5.0    14856\n",
       "Name: count, dtype: int64"
      ]
     },
     "metadata": {},
     "output_type": "display_data"
    }
   ],
   "source": [
    "# Number of movies\n",
    "print(\"Total number of movies:\", movies.shape[0])\n",
    "\n",
    "# Number of ratings\n",
    "print(\"Total number of ratings:\", ratings.shape[0])\n",
    "\n",
    "# Number of unique users\n",
    "print(\"Total number of unique users:\", ratings['userId'].nunique())\n",
    "\n",
    "# Number of unique movies that have been rated\n",
    "print(\"Total number of movies rated:\", ratings['movieId'].nunique())\n",
    "\n",
    "# Average rating given to movies\n",
    "print(\"Average movie rating:\", ratings['rating'].mean())\n",
    "\n",
    "# Checking the distribution of ratings\n",
    "print(\"\\nRating Distribution:\")\n",
    "display(ratings['rating'].value_counts().sort_index())\n"
   ]
  },
  {
   "cell_type": "markdown",
   "id": "3db358d2-30d3-4c2a-a250-7aabf7043179",
   "metadata": {},
   "source": [
    "##Step 6: Find the Most Popular Movies\n",
    "Now, let’s check which movies are rated the most."
   ]
  },
  {
   "cell_type": "code",
   "execution_count": 52,
   "id": "0babc57a-7a92-48d4-bb31-d2bd77caf02e",
   "metadata": {},
   "outputs": [
    {
     "name": "stdout",
     "output_type": "stream",
     "text": [
      "\n",
      "Top 10 Most Rated Movies:\n"
     ]
    },
    {
     "data": {
      "text/html": [
       "<div>\n",
       "<style scoped>\n",
       "    .dataframe tbody tr th:only-of-type {\n",
       "        vertical-align: middle;\n",
       "    }\n",
       "\n",
       "    .dataframe tbody tr th {\n",
       "        vertical-align: top;\n",
       "    }\n",
       "\n",
       "    .dataframe thead th {\n",
       "        text-align: right;\n",
       "    }\n",
       "</style>\n",
       "<table border=\"1\" class=\"dataframe\">\n",
       "  <thead>\n",
       "    <tr style=\"text-align: right;\">\n",
       "      <th></th>\n",
       "      <th>title</th>\n",
       "      <th>rating</th>\n",
       "    </tr>\n",
       "  </thead>\n",
       "  <tbody>\n",
       "    <tr>\n",
       "      <th>0</th>\n",
       "      <td>Pulp Fiction (1994)</td>\n",
       "      <td>325</td>\n",
       "    </tr>\n",
       "    <tr>\n",
       "      <th>1</th>\n",
       "      <td>Forrest Gump (1994)</td>\n",
       "      <td>311</td>\n",
       "    </tr>\n",
       "    <tr>\n",
       "      <th>2</th>\n",
       "      <td>Shawshank Redemption, The (1994)</td>\n",
       "      <td>308</td>\n",
       "    </tr>\n",
       "    <tr>\n",
       "      <th>3</th>\n",
       "      <td>Jurassic Park (1993)</td>\n",
       "      <td>294</td>\n",
       "    </tr>\n",
       "    <tr>\n",
       "      <th>4</th>\n",
       "      <td>Silence of the Lambs, The (1991)</td>\n",
       "      <td>290</td>\n",
       "    </tr>\n",
       "    <tr>\n",
       "      <th>5</th>\n",
       "      <td>Star Wars: Episode IV - A New Hope (1977)</td>\n",
       "      <td>273</td>\n",
       "    </tr>\n",
       "    <tr>\n",
       "      <th>6</th>\n",
       "      <td>Matrix, The (1999)</td>\n",
       "      <td>261</td>\n",
       "    </tr>\n",
       "    <tr>\n",
       "      <th>7</th>\n",
       "      <td>Terminator 2: Judgment Day (1991)</td>\n",
       "      <td>253</td>\n",
       "    </tr>\n",
       "    <tr>\n",
       "      <th>8</th>\n",
       "      <td>Schindler's List (1993)</td>\n",
       "      <td>248</td>\n",
       "    </tr>\n",
       "    <tr>\n",
       "      <th>9</th>\n",
       "      <td>Braveheart (1995)</td>\n",
       "      <td>248</td>\n",
       "    </tr>\n",
       "  </tbody>\n",
       "</table>\n",
       "</div>"
      ],
      "text/plain": [
       "                                       title  rating\n",
       "0                        Pulp Fiction (1994)     325\n",
       "1                        Forrest Gump (1994)     311\n",
       "2           Shawshank Redemption, The (1994)     308\n",
       "3                       Jurassic Park (1993)     294\n",
       "4           Silence of the Lambs, The (1991)     290\n",
       "5  Star Wars: Episode IV - A New Hope (1977)     273\n",
       "6                         Matrix, The (1999)     261\n",
       "7          Terminator 2: Judgment Day (1991)     253\n",
       "8                    Schindler's List (1993)     248\n",
       "9                          Braveheart (1995)     248"
      ]
     },
     "metadata": {},
     "output_type": "display_data"
    }
   ],
   "source": [
    "# Count the number of ratings per movie\n",
    "movie_ratings_count = ratings.groupby('movieId')['rating'].count()\n",
    "\n",
    "# Sort movies by number of ratings (most rated movies first)\n",
    "most_rated_movies = movie_ratings_count.sort_values(ascending=False).head(10)\n",
    "\n",
    "# Merge with movie names\n",
    "most_rated_movies = most_rated_movies.reset_index().merge(movies, on='movieId')\n",
    "\n",
    "# Show the top 10 most rated movies\n",
    "print(\"\\nTop 10 Most Rated Movies:\")\n",
    "display(most_rated_movies[['title', 'rating']])\n"
   ]
  },
  {
   "cell_type": "markdown",
   "id": "f226ee15-c2b4-41b2-a5f4-2d62f311ce52",
   "metadata": {},
   "source": [
    "## Step 7: Choosing a Recommendation Approach\n",
    "\n",
    "There are two main types of recommendation systems:\n",
    "\n",
    "1️⃣ Content-Based Filtering → Recommends movies similar to a given movie.\n",
    "    \n",
    "2️⃣ Collaborative Filtering → Recommends movies based on user preferences.\n",
    "\n",
    "Since we have movie genres (from movies.csv), we’ll first build a Content-Based Recommendation System. "
   ]
  },
  {
   "cell_type": "markdown",
   "id": "098e8c0a-0f9e-4613-9619-86e73c664943",
   "metadata": {},
   "source": [
    "# TF-IDF helps the computer ignore common words and focus on important words like \"Action\" and \"Comedy.\"\n"
   ]
  },
  {
   "cell_type": "code",
   "execution_count": 54,
   "id": "bb286c5d-96b2-4339-b732-4822adb1b26a",
   "metadata": {},
   "outputs": [
    {
     "name": "stdout",
     "output_type": "stream",
     "text": [
      "TF-IDF Matrix Shape: (10329, 23)\n"
     ]
    }
   ],
   "source": [
    "# Step 11: Extracting Movie Features\n",
    "#We’ll use the genres column from movies.csv to find similar movies.\n",
    "\n",
    "from sklearn.feature_extraction.text import TfidfVectorizer # TF-IDF (Term Frequency-Inverse Document Frequency).\n",
    "\n",
    "# Fill missing values in genres column (if any)\n",
    "movies['genres'] = movies['genres'].fillna('')\n",
    "\n",
    "# Convert genres into a matrix of TF-IDF features\n",
    "tfidf = TfidfVectorizer(stop_words='english')\n",
    "tfidf_matrix = tfidf.fit_transform(movies['genres'])\n",
    "\n",
    "print(\"TF-IDF Matrix Shape:\", tfidf_matrix.shape)\n"
   ]
  },
  {
   "cell_type": "markdown",
   "id": "adfa8715-7de8-4249-836c-c655fa76ddad",
   "metadata": {},
   "source": [
    "## ✅ linear_kernel is used to find similar movies based on their genres.\n",
    "\n",
    "✅ It compares all movies in a pairwise manner.\n",
    "\n",
    "✅ Higher scores mean the movies are more similar.\n",
    "\n",
    "✅ This is the brain behind movie recommendations!"
   ]
  },
  {
   "cell_type": "code",
   "execution_count": 56,
   "id": "ae8eb34d-5834-445b-bb9f-6cb92a9e661d",
   "metadata": {},
   "outputs": [
    {
     "name": "stdout",
     "output_type": "stream",
     "text": [
      "Similarity Matrix Shape: (10329, 10329)\n"
     ]
    }
   ],
   "source": [
    "from sklearn.metrics.pairwise import linear_kernel \n",
    "#linear_kernel is a function that calculates similarity between two things using a mathematical method called cosine similarity.\n",
    "\n",
    "# Compute similarity between movies\n",
    "cosine_sim = linear_kernel(tfidf_matrix, tfidf_matrix)\n",
    "\n",
    "print(\"Similarity Matrix Shape:\", cosine_sim.shape)\n"
   ]
  },
  {
   "cell_type": "code",
   "execution_count": 72,
   "id": "1a7d8fca-65ef-4030-8f1f-13f7103f998e",
   "metadata": {},
   "outputs": [],
   "source": []
  },
  {
   "cell_type": "markdown",
   "id": "e135cefe-f5b1-474b-82b3-c9ead5578fbd",
   "metadata": {},
   "source": [
    "# Step 9: Creating a Movie Recommendation Function\n",
    "Now that we have our cosine similarity matrix (which tells us how similar movies are), we need a function that:\n",
    "✔ Takes a movie name as input\n",
    "✔ Finds the most similar movies\n",
    "✔ Returns the top 5 recommendations"
   ]
  },
  {
   "cell_type": "code",
   "execution_count": null,
   "id": "aa9e6c92-c100-4a51-a6c5-5ed9595dd1b5",
   "metadata": {},
   "outputs": [],
   "source": [
    "# to Remove unwanted spaces\n",
    "movies['title'] = movies['title'].str.strip()\n",
    "#Lowercase Matching\n",
    "# If titles have different capitalizations (\"avatar\" instead of \"Avatar\"), change:\n",
    "indices = pd.Series(movies.index, index=movies['title'].str.lower()).drop_duplicates()\n",
    "\n"
   ]
  },
  {
   "cell_type": "code",
   "execution_count": 78,
   "id": "6da9e7d2-b643-4734-84af-60cf4d4b769e",
   "metadata": {
    "scrolled": true
   },
   "outputs": [
    {
     "name": "stdout",
     "output_type": "stream",
     "text": [
      "5725                           Spider-Man 2 (2004)\n",
      "7055                       Superman Returns (2006)\n",
      "8095                              Star Trek (2009)\n",
      "8150    Transformers: Revenge of the Fallen (2009)\n",
      "8350                                 Avatar (2009)\n",
      "Name: title, dtype: object\n"
     ]
    }
   ],
   "source": [
    "# Create a function to get movie recommendations\n",
    "import pandas as pd\n",
    "\n",
    "# Create a mapping from movie titles to index\n",
    "indices = pd.Series(movies.index, index=movies['title']).drop_duplicates()\n",
    "\n",
    "def recommend_movies(title, cosine_sim=cosine_sim):\n",
    "    # Get the index of the movie that matches the title\n",
    "    idx = indices.get(title)\n",
    "\n",
    "    if idx is None:\n",
    "        return \"Movie not found! Please check the title.\"\n",
    "\n",
    "    # Get the similarity scores for all movies with that movie\n",
    "    sim_scores = list(enumerate(cosine_sim[idx]))\n",
    "\n",
    "    # Sort the movies based on similarity scores\n",
    "    sim_scores = sorted(sim_scores, key=lambda x: x[1], reverse=True)\n",
    "\n",
    "    # Get the indices of the top 5 most similar movies (excluding itself)\n",
    "    sim_scores = sim_scores[1:6]\n",
    "\n",
    "    # Get the movie indices\n",
    "    movie_indices = [i[0] for i in sim_scores]\n",
    "\n",
    "    # Return the top 5 most similar movies\n",
    "    return movies['title'].iloc[movie_indices]\n",
    "\n",
    "# Try it with a movie name\n",
    "print(recommend_movies(\"Avatar (2009)\"))\n"
   ]
  },
  {
   "cell_type": "markdown",
   "id": "189e56af-8544-43a7-8b9a-9d427c8ce585",
   "metadata": {},
   "source": [
    "#  Step 11: Handle Missing Titles Gracefully\n",
    "# This will suggest similar movie names if the title is missing!  "
   ]
  },
  {
   "cell_type": "code",
   "execution_count": 84,
   "id": "f8ac32f3-1a6a-4a9e-ba0b-a404b56ffacc",
   "metadata": {},
   "outputs": [
    {
     "name": "stdout",
     "output_type": "stream",
     "text": [
      "Movie not found! Did you mean one of these?\n",
      "489                              Super Mario Bros. (1993)\n",
      "696     Supercop (Police Story 3: Supercop) (Jing cha ...\n",
      "705        Supercop 2 (Project S) (Chao ji ji hua) (1993)\n",
      "2107                                      Superman (1978)\n",
      "2108                                   Superman II (1980)\n",
      "Name: title, dtype: object\n",
      "Try another movie name.\n"
     ]
    }
   ],
   "source": [
    "\n",
    "def recommend_movies(title, cosine_sim=cosine_sim):\n",
    "    title = title.strip().lower()  # Remove extra spaces and make lowercase\n",
    "    idx = indices.get(title)\n",
    "\n",
    "    if idx is None:\n",
    "        print(\"Movie not found! Did you mean one of these?\")\n",
    "        print(movies['title'][movies['title'].str.contains(title[:5], case=False, na=False)].head(5))\n",
    "        return \"Try another movie name.\"\n",
    "\n",
    "    # Get similarity scores\n",
    "    sim_scores = list(enumerate(cosine_sim[idx]))\n",
    "    sim_scores = sorted(sim_scores, key=lambda x: x[1], reverse=True)\n",
    "    sim_scores = sim_scores[1:6]\n",
    "    movie_indices = [i[0] for i in sim_scores]\n",
    "\n",
    "    return movies['title'].iloc[movie_indices]\n",
    "\n",
    "print(recommend_movies(\"Superman Returns\"))\n",
    "\n"
   ]
  },
  {
   "cell_type": "markdown",
   "id": "f31c7bc9-f434-4dc2-80cb-ca2133538aaa",
   "metadata": {},
   "source": [
    "# Step 12.1: Modify the Function to Show a Clean Output\n",
    "Instead of just returning a list of movie names, let's display them in a nicer format with genres.\n"
   ]
  },
  {
   "cell_type": "code",
   "execution_count": 90,
   "id": "a0e78902-4f78-41c7-953b-c84740ef6985",
   "metadata": {},
   "outputs": [
    {
     "name": "stdout",
     "output_type": "stream",
     "text": [
      "Movie not found! Did you mean one of these?\n",
      "1367                                       Titanic (1997)\n",
      "1712    Chambermaid on the Titanic, The (Femme de cham...\n",
      "2699                             Raise the Titanic (1980)\n",
      "2700                                       Titanic (1953)\n",
      "2962                                    Titan A.E. (2000)\n",
      "Name: title, dtype: object\n"
     ]
    },
    {
     "data": {
      "text/plain": [
       "'Try another movie name.'"
      ]
     },
     "execution_count": 90,
     "metadata": {},
     "output_type": "execute_result"
    }
   ],
   "source": [
    "\n",
    "def recommend_movies(title, cosine_sim=cosine_sim):\n",
    "    title = title.strip().lower()  # Remove extra spaces and make lowercase\n",
    "    idx = indices.get(title)\n",
    "\n",
    "    if idx is None:\n",
    "        print(\"Movie not found! Did you mean one of these?\")\n",
    "        print(movies['title'][movies['title'].str.contains(title[:5], case=False, na=False)].head(5))\n",
    "        return \"Try another movie name.\"\n",
    "\n",
    "    # Get similarity scores\n",
    "    sim_scores = list(enumerate(cosine_sim[idx]))\n",
    "    sim_scores = sorted(sim_scores, key=lambda x: x[1], reverse=True)\n",
    "    sim_scores = sim_scores[1:6]  # Get top 5 similar movies\n",
    "\n",
    "    # Get movie indices\n",
    "    movie_indices = [i[0] for i in sim_scores]\n",
    "\n",
    "    # Display recommendations in a better format\n",
    "    print(f\"\\nTop 5 movies similar to '{title.title()}':\\n\")\n",
    "    for i, movie_idx in enumerate(movie_indices):\n",
    "        movie_title = movies.iloc[movie_idx]['title']\n",
    "        movie_genres = movies.iloc[movie_idx]['genres']\n",
    "        print(f\"{i+1}. {movie_title}  |  Genres: {movie_genres}\")\n",
    "\n",
    "# Try the function\n",
    "recommend_movies(\"Titanic\")\n"
   ]
  },
  {
   "cell_type": "code",
   "execution_count": null,
   "id": "9f2a8ab4-d110-4a6b-ad82-a69ec7aeb173",
   "metadata": {},
   "outputs": [],
   "source": []
  }
 ],
 "metadata": {
  "kernelspec": {
   "display_name": "Python 3 (ipykernel)",
   "language": "python",
   "name": "python3"
  },
  "language_info": {
   "codemirror_mode": {
    "name": "ipython",
    "version": 3
   },
   "file_extension": ".py",
   "mimetype": "text/x-python",
   "name": "python",
   "nbconvert_exporter": "python",
   "pygments_lexer": "ipython3",
   "version": "3.12.4"
  }
 },
 "nbformat": 4,
 "nbformat_minor": 5
}
